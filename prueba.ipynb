{
 "cells": [
  {
   "cell_type": "code",
   "execution_count": 10,
   "metadata": {},
   "outputs": [
    {
     "name": "stdout",
     "output_type": "stream",
     "text": [
      "Se estudio el efecto de plantas productoras de nectar (Brassica rapa (L.), Calendula officinalis (L.), Ruta graveolens (L.), y Borrago officinalis (L.)), comparadas con solucion de miel de abejas sobre la longevidad y fecundidad de Diadegma aff. insulare bajo condiciones de casa de malla. La longevidad y fecundidad de hembras de D. aff. insulare alimentadas en B. rapa fueron iguales a las alimentadas con solucion de miel y agua (, ± , dias, , ± , progenie/hembra). B. officinalis fue la mejor fuente de alimentacion (,±, dias, ,±, progenie/ hembra), seguida por R. graveolens (,±, dias, ,±, progenie). Hembras alimentadas con C. officinalis (,±, days, .±, progenie) tuvieron la longevidad y fecundidad mas baja respecto al testigo. Longevidad y fecundidad variaron con caracteristicas morfologicas de las flores. Un incremento en longevidad y fecundidad estuvo relacionado con mayor ancho y longitud de corola. En pruebas de seleccion libre y de no seleccion se registro un numero significativamente mayor de visitas a las flores de R. graveolens (, ±, y ,±, visitas/min) y B. rapa (, ± , y , ± , visitas/min). Se sugiere manipular la presencia plantas nectariferas, especialmente B. officinalis para aumentar el impacto de D. aff. insulare en el manejo integrado de P. xylostella\" \n"
     ]
    }
   ],
   "source": [
    "# Procesamiento del texto\n",
    "import unicodedata\n",
    "\n",
    "def eliminar_tildes(texto):\n",
    "    # Normaliza el texto para descomponer las letras con tildes en letra + signo diacrítico\n",
    "    texto_normalizado = unicodedata.normalize('NFKD', texto)\n",
    "    # Filtra el texto para eliminar los signos diacríticos (tildes)\n",
    "    return \"\".join([c for c in texto_normalizado if not unicodedata.combining(c)])\n",
    "\n",
    "def eliminar_numeros(texto):\n",
    "    # Elimina todos los dígitos del texto\n",
    "    return \"\".join([c for c in texto if not c.isdigit()])\n",
    "\n",
    "# Leer el archivo\n",
    "with open('articulo1.txt', 'r', encoding='utf-8') as archivo:\n",
    "    contenido = archivo.read()\n",
    "\n",
    "# Procesa el contenido\n",
    "contenido = contenido.replace('\\n', ' ')  # Elimina saltos de línea\n",
    "contenido = eliminar_tildes(contenido)    # Elimina tildes\n",
    "contenido = eliminar_numeros(contenido)   # Elimina números\n",
    "\n",
    "# Imprime el contenido procesado\n",
    "print(contenido)\n",
    "\n",
    "print(\"Cambio\")"
   ]
  }
 ],
 "metadata": {
  "kernelspec": {
   "display_name": "Python 3",
   "language": "python",
   "name": "python3"
  },
  "language_info": {
   "codemirror_mode": {
    "name": "ipython",
    "version": 3
   },
   "file_extension": ".py",
   "mimetype": "text/x-python",
   "name": "python",
   "nbconvert_exporter": "python",
   "pygments_lexer": "ipython3",
   "version": "3.12.3"
  }
 },
 "nbformat": 4,
 "nbformat_minor": 2
}
